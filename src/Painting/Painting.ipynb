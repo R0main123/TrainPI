{
 "cells": [
  {
   "cell_type": "code",
   "id": "initial_id",
   "metadata": {
    "collapsed": true,
    "ExecuteTime": {
     "end_time": "2024-12-11T09:52:22.729430Z",
     "start_time": "2024-12-11T09:52:19.689393Z"
    }
   },
   "source": [
    "import torch\n",
    "from PIL import Image\n",
    "from diffusers import StableDiffusionXLInpaintPipeline"
   ],
   "outputs": [
    {
     "name": "stderr",
     "output_type": "stream",
     "text": [
      "/Users/romainmorin/Desktop/TN/3A/PI/Projet/src/TrainPI/venv/lib/python3.9/site-packages/urllib3/__init__.py:35: NotOpenSSLWarning: urllib3 v2 only supports OpenSSL 1.1.1+, currently the 'ssl' module is compiled with 'LibreSSL 2.8.3'. See: https://github.com/urllib3/urllib3/issues/3020\n",
      "  warnings.warn(\n"
     ]
    }
   ],
   "execution_count": 1
  },
  {
   "metadata": {},
   "cell_type": "code",
   "outputs": [],
   "execution_count": null,
   "source": "",
   "id": "ef967c115c88cb25"
  },
  {
   "metadata": {
    "ExecuteTime": {
     "end_time": "2024-12-11T09:53:00.616114Z",
     "start_time": "2024-12-11T09:52:22.730802Z"
    }
   },
   "cell_type": "code",
   "source": [
    "pipe = StableDiffusionXLInpaintPipeline.from_pretrained(\n",
    "    \"diffusers/stable-diffusion-xl-1.0-inpainting-0.1\",\n",
    "    torch_dtype=torch.float16\n",
    ").to(\"mps\")"
   ],
   "id": "168f6a5601068c86",
   "outputs": [
    {
     "data": {
      "text/plain": [
       "Loading pipeline components...:   0%|          | 0/7 [00:00<?, ?it/s]"
      ],
      "application/vnd.jupyter.widget-view+json": {
       "version_major": 2,
       "version_minor": 0,
       "model_id": "72597f57908045fbbc54a09416c5c3e0"
      }
     },
     "metadata": {},
     "output_type": "display_data"
    },
    {
     "name": "stderr",
     "output_type": "stream",
     "text": [
      "The config attributes {'decay': 0.9999, 'inv_gamma': 1.0, 'min_decay': 0.0, 'optimization_step': 37000, 'power': 0.6666666666666666, 'update_after_step': 0, 'use_ema_warmup': False} were passed to UNet2DConditionModel, but are not expected and will be ignored. Please verify your config.json configuration file.\n"
     ]
    }
   ],
   "execution_count": 2
  },
  {
   "metadata": {
    "ExecuteTime": {
     "end_time": "2024-12-11T09:53:00.648248Z",
     "start_time": "2024-12-11T09:53:00.617104Z"
    }
   },
   "cell_type": "code",
   "source": [
    "init_image = Image.open(\"../../data/content/helicopter.jpg\").convert(\"RGB\")\n",
    "mask_image = Image.open(\"../segmentation/helicopter_mask.png\").convert(\"RGB\")"
   ],
   "id": "c47017b774f0a620",
   "outputs": [],
   "execution_count": 3
  },
  {
   "metadata": {
    "jupyter": {
     "is_executing": true
    }
   },
   "cell_type": "code",
   "source": [
    "prompt = \"Paint the body of the helicopter, adding the colors of the Spanish flag. The helicopter must remain realistic, keep the same shape and be used by firefighters, so add some Spanish traditional symbols.\" \n",
    "#\"Highly detailed and realistic depiction of a helicopter used by the Spanish firefighting forces, featuring a sleek, modern design. The helicopter’s body should have vibrant colors that represent Spain, such as red and yellow, with elegant, cohesive patterns inspired by the Spanish flag and cultural motifs. The windows should remain untouched and unpainted, showcasing their clear, reflective surfaces. The scene should include a clear sky and subtle smoke in the background to suggest firefighting activity, ensuring the helicopter remains the central focus. The image should emphasize realistic textures, reflections on the helicopter’s surface, and precise detailing of its rotor blades and firefighting equipment.\"\n",
    "\n",
    "\n",
    "\n",
    "\n",
    "# Prompt négatif indiquant ce que vous ne voulez pas\n",
    "negative_prompt = \"cartoon, low detail, low quality, blurry, oversaturated colors, unrealistic proportions, out of focus, pixelated, disorganized patterns, poor lighting, deformed body, unnatural textures, noisy background, distorted shapes, excessive artifacts, unprofessional rendering, painted or obstructed windows, lack of realism.\""
   ],
   "id": "1413b462bc890851",
   "outputs": [],
   "execution_count": null
  },
  {
   "metadata": {
    "ExecuteTime": {
     "end_time": "2024-12-11T10:34:59.457057Z",
     "start_time": "2024-12-11T09:53:00.653908Z"
    }
   },
   "cell_type": "code",
   "source": [
    "result = pipe(\n",
    "    prompt=prompt,\n",
    "    image=init_image,\n",
    "    mask_image=mask_image,\n",
    "    guidance_scale=7.5,\n",
    "    num_inference_steps=50,\n",
    "    negative_prompt=negative_prompt\n",
    ").images[0]"
   ],
   "id": "606d33be6fe7a28a",
   "outputs": [
    {
     "data": {
      "text/plain": [
       "  0%|          | 0/49 [00:00<?, ?it/s]"
      ],
      "application/vnd.jupyter.widget-view+json": {
       "version_major": 2,
       "version_minor": 0,
       "model_id": "3db9dae27cf54aab83447ad100becb45"
      }
     },
     "metadata": {},
     "output_type": "display_data"
    }
   ],
   "execution_count": 5
  },
  {
   "metadata": {
    "ExecuteTime": {
     "end_time": "2024-12-11T10:35:00.222539Z",
     "start_time": "2024-12-11T10:34:59.481375Z"
    }
   },
   "cell_type": "code",
   "source": "result.save(\"output_sdxl.png\")",
   "id": "f9ca8ca65cce3023",
   "outputs": [],
   "execution_count": 6
  },
  {
   "metadata": {
    "ExecuteTime": {
     "end_time": "2024-12-11T10:35:00.225580Z",
     "start_time": "2024-12-11T10:35:00.224140Z"
    }
   },
   "cell_type": "code",
   "source": "",
   "id": "e61fefc81bfad4a1",
   "outputs": [],
   "execution_count": 6
  }
 ],
 "metadata": {
  "kernelspec": {
   "display_name": "Python 3",
   "language": "python",
   "name": "python3"
  },
  "language_info": {
   "codemirror_mode": {
    "name": "ipython",
    "version": 2
   },
   "file_extension": ".py",
   "mimetype": "text/x-python",
   "name": "python",
   "nbconvert_exporter": "python",
   "pygments_lexer": "ipython2",
   "version": "2.7.6"
  }
 },
 "nbformat": 4,
 "nbformat_minor": 5
}
